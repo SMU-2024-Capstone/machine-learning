{
 "cells": [
  {
   "cell_type": "code",
   "execution_count": 11,
   "id": "989f2e12-f665-4480-8590-9dbfe4e55e59",
   "metadata": {},
   "outputs": [],
   "source": [
    "import pandas as pd\n",
    "import numpy as np\n",
    "import base64\n",
    "import re\n",
    "\n",
    "from sklearn.metrics.pairwise import cosine_similarity\n",
    "\n",
    "import random"
   ]
  },
  {
   "cell_type": "code",
   "execution_count": 12,
   "id": "5c49bf7c-5cfa-496f-98f4-8e4708698b80",
   "metadata": {},
   "outputs": [],
   "source": [
    "def str_to_vec(str):\n",
    "    return np.frombuffer(base64.b85decode(str), dtype = np.float32)\n",
    "def vec_to_str(vec):\n",
    "    return base64.b85encode(vec.tobytes()).decode()"
   ]
  },
  {
   "cell_type": "code",
   "execution_count": null,
   "id": "e527e07b-e2bd-44ae-8321-5119de2a88fb",
   "metadata": {},
   "outputs": [],
   "source": []
  },
  {
   "cell_type": "code",
   "execution_count": 14,
   "id": "9df8b4d7-c7da-498a-aabc-77bb70828511",
   "metadata": {},
   "outputs": [],
   "source": [
    "f = open('txt/importance_vectors.txt', 'r')\n",
    "importance_vectors = list(map(str_to_vec ,eval(f.read())))"
   ]
  },
  {
   "cell_type": "code",
   "execution_count": 15,
   "id": "57859e30-850e-4cde-ad46-269a96fbc9bb",
   "metadata": {},
   "outputs": [],
   "source": [
    "f = open('txt/category_vectors.txt', 'r')\n",
    "category_vectors = list(map(str_to_vec ,eval(f.read())))"
   ]
  },
  {
   "cell_type": "code",
   "execution_count": null,
   "id": "6418a7f0-1ace-402e-964e-ef9ccb25736b",
   "metadata": {},
   "outputs": [],
   "source": []
  },
  {
   "cell_type": "code",
   "execution_count": 17,
   "id": "e66352db-73b5-48b1-8524-38a9f9248ca5",
   "metadata": {},
   "outputs": [],
   "source": [
    "def calc_user_iv(importance_ratings):\n",
    "    sum_user_iv = importance_vectors[0] * importance_ratings[0]\n",
    "    for i in range(1, len(importance_ratings)):\n",
    "        sum_user_iv = sum_user_iv + importance_vectors[i] * importance_ratings[i]\n",
    "    user_iv = sum_user_iv/sum(importance_ratings)\n",
    "    return user_iv"
   ]
  },
  {
   "cell_type": "code",
   "execution_count": 18,
   "id": "0cac0304-3ae5-47b9-9549-8bb79f0cc917",
   "metadata": {},
   "outputs": [],
   "source": [
    "def calc_user_cv(category_ratings):\n",
    "    sum_user_cv = category_vectors[0] * category_ratings[0]\n",
    "    for i in range(1, len(category_ratings)):\n",
    "        sum_user_cv = sum_user_cv + category_vectors[i] * category_ratings[i]\n",
    "    user_cv = sum_user_cv/sum(category_ratings)\n",
    "    return user_cv"
   ]
  },
  {
   "cell_type": "code",
   "execution_count": 19,
   "id": "b146fc66-87bf-4fdc-8df7-82d378fbb534",
   "metadata": {},
   "outputs": [],
   "source": [
    "def calc_test_user_vector(importance_ratings, category_ratings):\n",
    "    user_iv = calc_user_iv(importance_ratings)\n",
    "    user_cv = calc_user_cv(category_ratings)\n",
    "    user_vector = 0.2*user_iv + 0.8*user_cv\n",
    "    return user_vector"
   ]
  },
  {
   "cell_type": "code",
   "execution_count": null,
   "id": "922e4b76-b73e-4005-96b0-8c28c1785a03",
   "metadata": {},
   "outputs": [],
   "source": []
  },
  {
   "cell_type": "code",
   "execution_count": 21,
   "id": "6b4e36ea-3f73-4864-bd9f-c1cc5b46ea0a",
   "metadata": {},
   "outputs": [],
   "source": [
    "place_df = pd.read_csv('data/places_ML.csv')"
   ]
  },
  {
   "cell_type": "code",
   "execution_count": null,
   "id": "4ac088ee-301a-4360-be20-fbb40200633e",
   "metadata": {},
   "outputs": [],
   "source": []
  },
  {
   "cell_type": "code",
   "execution_count": 23,
   "id": "61bf3f66-03e7-421b-835a-7c27baede2f4",
   "metadata": {},
   "outputs": [
    {
     "data": {
      "text/plain": [
       "'\\n\\n3 -> 0\\n5 -> 2\\n5 -> 2\\n1 -> -2\\n\\n(0a + 2b + 2c - 2d) / 2\\n(1a + 2b + 2c - 1d) / 4\\n\\n14  2\\n4\\n\\n\\n'"
      ]
     },
     "execution_count": 23,
     "metadata": {},
     "output_type": "execute_result"
    }
   ],
   "source": [
    "\"\"\"\n",
    "\n",
    "3 -> 0\n",
    "5 -> 2\n",
    "5 -> 2\n",
    "1 -> -2\n",
    "\n",
    "(0a + 2b + 2c - 2d) / 2\n",
    "(1a + 2b + 2c - 1d) / 4\n",
    "\n",
    "14  2\n",
    "4\n",
    "\n",
    "\n",
    "\"\"\""
   ]
  },
  {
   "cell_type": "code",
   "execution_count": 24,
   "id": "db3f8b87-1650-44f1-91e6-585d0bf095ee",
   "metadata": {},
   "outputs": [],
   "source": [
    "def rating_place(user_vector, count_rating_places, place_id, rating):\n",
    "    place_vector = str_to_vec(place_df.loc[place_df['naver_id']==place_id, 'place_vector'].values[0])\n",
    "    result_user_vector is None\n",
    "    if count_rating_places == 0:\n",
    "        result_user_vector = (user_vector*0.7 + place_vector*(rating/5)*0.3)\n",
    "    else:\n",
    "        result_user_vector = (user_vector*count_rating_places + place_vector*(rating/5)) / (count_rating_places + 1)\n",
    "    \n",
    "    return result_user_vector"
   ]
  },
  {
   "cell_type": "code",
   "execution_count": 35,
   "id": "50fb667c-4f92-4061-9e68-6e24a6790e86",
   "metadata": {},
   "outputs": [],
   "source": [
    "# result_user_vector = calc_place_rating(user_vector, 6, 1336760258, 5)"
   ]
  },
  {
   "cell_type": "code",
   "execution_count": null,
   "id": "1a20de94-5eac-4675-9e0e-4595432eeec6",
   "metadata": {},
   "outputs": [],
   "source": []
  },
  {
   "cell_type": "code",
   "execution_count": null,
   "id": "3389ca9c-0565-4f8a-b368-21e01c659bd7",
   "metadata": {},
   "outputs": [],
   "source": []
  },
  {
   "cell_type": "code",
   "execution_count": null,
   "id": "f3e7e0e2-a93b-4b98-9a2f-5dc997c72025",
   "metadata": {},
   "outputs": [],
   "source": []
  },
  {
   "cell_type": "code",
   "execution_count": null,
   "id": "fd728a29-69fb-457d-80ba-07a75cf7a7a0",
   "metadata": {},
   "outputs": [],
   "source": []
  },
  {
   "cell_type": "code",
   "execution_count": null,
   "id": "6e3802f7-f762-4e1a-b2d6-6957942756e8",
   "metadata": {},
   "outputs": [],
   "source": []
  },
  {
   "cell_type": "code",
   "execution_count": 42,
   "id": "270d9702-79a2-449f-94d0-d62622a5bea6",
   "metadata": {},
   "outputs": [],
   "source": [
    "def read_place_vectors(place_df_vector):\n",
    "    document_embedding_list = []        \n",
    "    i = 0\n",
    "\n",
    "    # 각 문서에 대해서\n",
    "    for v_tostring in place_df_vector:\n",
    "        document_embedding_list.append(str_to_vec(v_tostring))\n",
    "    \n",
    "    # 각 문서에 대한 문서 벡터 리스트를 리턴\n",
    "    return document_embedding_list"
   ]
  },
  {
   "cell_type": "code",
   "execution_count": null,
   "id": "24f37906-73de-4a80-8385-0b5e9faf3bf7",
   "metadata": {},
   "outputs": [],
   "source": []
  },
  {
   "cell_type": "code",
   "execution_count": 45,
   "id": "991e252f-d75b-4494-bd24-1cf9fe0afe9f",
   "metadata": {},
   "outputs": [],
   "source": [
    "def pick_places(user_vector):\n",
    "    place_ids = []\n",
    "    \n",
    "    document_embedding_list = read_place_vectors(place_df['place_vector'])\n",
    "    cosine_similarities = cosine_similarity([user_vector], document_embedding_list)\n",
    "\n",
    "    # 입력된 장소와 리뷰(document embedding)가 유사한 장소 10개 선정.\n",
    "    sim_scores = list(enumerate(cosine_similarities[0]))\n",
    "    sim_scores = sorted(sim_scores, key = lambda x: x[1], reverse = True)\n",
    "    sim_scores = sim_scores[0:10]\n",
    "    \n",
    "    # 가장 유사한 장소 10개의 인덱스\n",
    "    place_indices = [i[0] for i in sim_scores]\n",
    "\n",
    "    # 10개의 장소 중 5개 랜덤 선택\n",
    "    random_indices = random.sample(place_indices, 5)\n",
    "\n",
    "    for i in random_indices:\n",
    "        place_ids.append(int(place_df.loc[i, 'naver_id']))\n",
    "\n",
    "    return place_ids"
   ]
  },
  {
   "cell_type": "code",
   "execution_count": 47,
   "id": "0202cdd2-b6e0-4b89-87d7-b78e8433e3c1",
   "metadata": {},
   "outputs": [],
   "source": [
    "def test(importance_ratings, category_ratings):\n",
    "\n",
    "    return pick_places(calc_test_user_vector(importance_ratings, category_ratings))"
   ]
  },
  {
   "cell_type": "code",
   "execution_count": 49,
   "id": "c8656dcd-55be-402b-92ea-ee2fd5d8e1ea",
   "metadata": {},
   "outputs": [],
   "source": [
    "# user_vector = calc_test_user_vector([1, 2, 3, 0, 1], [2, 3, 0, 1, 2, 3, 0, 1, 2, 3, 0, 1, 2,1,1,1,1,1])"
   ]
  },
  {
   "cell_type": "code",
   "execution_count": null,
   "id": "ff25398e-b2b3-412f-817b-e01786ad43bf",
   "metadata": {},
   "outputs": [],
   "source": []
  }
 ],
 "metadata": {
  "kernelspec": {
   "display_name": "python38",
   "language": "python",
   "name": "python38"
  },
  "language_info": {
   "codemirror_mode": {
    "name": "ipython",
    "version": 3
   },
   "file_extension": ".py",
   "mimetype": "text/x-python",
   "name": "python",
   "nbconvert_exporter": "python",
   "pygments_lexer": "ipython3",
   "version": "3.8.19"
  }
 },
 "nbformat": 4,
 "nbformat_minor": 5
}
