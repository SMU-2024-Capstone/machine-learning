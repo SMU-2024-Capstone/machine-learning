{
 "cells": [
  {
   "cell_type": "code",
   "execution_count": 1,
   "id": "989f2e12-f665-4480-8590-9dbfe4e55e59",
   "metadata": {},
   "outputs": [],
   "source": [
    "import pandas as pd\n",
    "import numpy as np\n",
    "import base64\n",
    "import re\n",
    "\n",
    "from sklearn.metrics.pairwise import cosine_similarity\n",
    "\n",
    "import random"
   ]
  },
  {
   "cell_type": "code",
   "execution_count": 5,
   "id": "5c49bf7c-5cfa-496f-98f4-8e4708698b80",
   "metadata": {},
   "outputs": [],
   "source": [
    "def str_to_vec(str):\n",
    "    return np.frombuffer(base64.b85decode(str), dtype = np.float32)\n",
    "def vec_to_str(vec):\n",
    "    return base64.b85encode(vec.tobytes()).decode()"
   ]
  },
  {
   "cell_type": "code",
   "execution_count": null,
   "id": "e527e07b-e2bd-44ae-8321-5119de2a88fb",
   "metadata": {},
   "outputs": [],
   "source": []
  },
  {
   "cell_type": "code",
   "execution_count": 8,
   "id": "9df8b4d7-c7da-498a-aabc-77bb70828511",
   "metadata": {},
   "outputs": [],
   "source": [
    "f = open('txt/importance_vectors.txt', 'r')\n",
    "importance_vectors = list(map(str_to_vec ,eval(f.read())))"
   ]
  },
  {
   "cell_type": "code",
   "execution_count": 10,
   "id": "57859e30-850e-4cde-ad46-269a96fbc9bb",
   "metadata": {},
   "outputs": [],
   "source": [
    "f = open('txt/category_vectors.txt', 'r')\n",
    "category_vectors = list(map(str_to_vec ,eval(f.read())))"
   ]
  },
  {
   "cell_type": "code",
   "execution_count": null,
   "id": "6418a7f0-1ace-402e-964e-ef9ccb25736b",
   "metadata": {},
   "outputs": [],
   "source": []
  },
  {
   "cell_type": "code",
   "execution_count": 12,
   "id": "e66352db-73b5-48b1-8524-38a9f9248ca5",
   "metadata": {},
   "outputs": [],
   "source": [
    "def calc_user_iv(importance_ratings):\n",
    "    sum_user_iv = importance_vectors[0] * importance_ratings[0]\n",
    "    for i in range(1, len(importance_ratings)):\n",
    "        sum_user_iv = sum_user_iv + importance_vectors[i] * importance_ratings[i]\n",
    "    user_iv = sum_user_iv/sum(importance_ratings)\n",
    "    return user_iv"
   ]
  },
  {
   "cell_type": "code",
   "execution_count": 14,
   "id": "0cac0304-3ae5-47b9-9549-8bb79f0cc917",
   "metadata": {},
   "outputs": [],
   "source": [
    "def calc_user_cv(category_ratings):\n",
    "    sum_user_cv = category_vectors[0] * category_ratings[0]\n",
    "    for i in range(1, len(category_ratings)):\n",
    "        sum_user_cv = sum_user_cv + category_vectors[i] * category_ratings[i]\n",
    "    user_cv = sum_user_cv/sum(category_ratings)\n",
    "    return user_cv"
   ]
  },
  {
   "cell_type": "code",
   "execution_count": 16,
   "id": "b146fc66-87bf-4fdc-8df7-82d378fbb534",
   "metadata": {},
   "outputs": [],
   "source": [
    "def calc_user_vector(importance_ratings, category_ratings):\n",
    "    user_iv = calc_user_iv(importance_ratings)\n",
    "    user_cv = calc_user_cv(category_ratings)\n",
    "    user_vector = 0.5*user_iv + 0.5*user_cv\n",
    "    return user_vector"
   ]
  },
  {
   "cell_type": "code",
   "execution_count": null,
   "id": "6e3802f7-f762-4e1a-b2d6-6957942756e8",
   "metadata": {},
   "outputs": [],
   "source": []
  },
  {
   "cell_type": "code",
   "execution_count": 19,
   "id": "6b4e36ea-3f73-4864-bd9f-c1cc5b46ea0a",
   "metadata": {},
   "outputs": [],
   "source": [
    "place_df = pd.read_csv('data/places_ML.csv')"
   ]
  },
  {
   "cell_type": "code",
   "execution_count": 21,
   "id": "270d9702-79a2-449f-94d0-d62622a5bea6",
   "metadata": {},
   "outputs": [],
   "source": [
    "def read_place_vectors(place_df_vector):\n",
    "    document_embedding_list = []        \n",
    "    i = 0\n",
    "\n",
    "    # 각 문서에 대해서\n",
    "    for v_tostring in place_df_vector:\n",
    "        document_embedding_list.append(str_to_vec(v_tostring))\n",
    "    \n",
    "    # 각 문서에 대한 문서 벡터 리스트를 리턴\n",
    "    return document_embedding_list"
   ]
  },
  {
   "cell_type": "code",
   "execution_count": null,
   "id": "24f37906-73de-4a80-8385-0b5e9faf3bf7",
   "metadata": {},
   "outputs": [],
   "source": []
  },
  {
   "cell_type": "code",
   "execution_count": 24,
   "id": "991e252f-d75b-4494-bd24-1cf9fe0afe9f",
   "metadata": {},
   "outputs": [],
   "source": [
    "def pick_places(user_vector):\n",
    "    place_ids = []\n",
    "    \n",
    "    document_embedding_list = read_place_vectors(place_df['place_vector'])\n",
    "    cosine_similarities = cosine_similarity([user_vector], document_embedding_list)\n",
    "\n",
    "    # 입력된 장소와 리뷰(document embedding)가 유사한 장소 10개 선정.\n",
    "    sim_scores = list(enumerate(cosine_similarities[0]))\n",
    "    sim_scores = sorted(sim_scores, key = lambda x: x[1], reverse = True)\n",
    "    sim_scores = sim_scores[0:10]\n",
    "    \n",
    "    # 가장 유사한 장소 10개의 인덱스\n",
    "    place_indices = [i[0] for i in sim_scores]\n",
    "\n",
    "    random_indices = random.sample(place_indices, 5)\n",
    "\n",
    "    for i in random_indices:\n",
    "        place_ids.append(int(place_df.loc[i, 'naver_id']))\n",
    "\n",
    "    return place_ids"
   ]
  },
  {
   "cell_type": "code",
   "execution_count": null,
   "id": "8e60b2d7-f926-4b12-bdf2-820cc72fb78c",
   "metadata": {},
   "outputs": [],
   "source": []
  },
  {
   "cell_type": "code",
   "execution_count": 27,
   "id": "0202cdd2-b6e0-4b89-87d7-b78e8433e3c1",
   "metadata": {},
   "outputs": [],
   "source": [
    "def test(importance_ratings, category_ratings):\n",
    "\n",
    "    return pick_places(calc_user_vector(importance_ratings, category_ratings))"
   ]
  },
  {
   "cell_type": "code",
   "execution_count": null,
   "id": "c8656dcd-55be-402b-92ea-ee2fd5d8e1ea",
   "metadata": {},
   "outputs": [],
   "source": []
  },
  {
   "cell_type": "code",
   "execution_count": 31,
   "id": "df54cd04-fe7c-49ca-8cc8-cba8b84b1ea7",
   "metadata": {},
   "outputs": [
    {
     "data": {
      "text/plain": [
       "[19411645, 1110186348, 20597120, 20315029, 1434781920]"
      ]
     },
     "execution_count": 31,
     "metadata": {},
     "output_type": "execute_result"
    }
   ],
   "source": [
    "test([0,0,0,0,1],[1,3,2,3,2,1,0,0,0,1,2,3,2,1,2,3,2,1])"
   ]
  },
  {
   "cell_type": "code",
   "execution_count": null,
   "id": "196cc019-64a6-4e89-9df9-ba077748009b",
   "metadata": {},
   "outputs": [],
   "source": []
  }
 ],
 "metadata": {
  "kernelspec": {
   "display_name": "python38",
   "language": "python",
   "name": "python38"
  },
  "language_info": {
   "codemirror_mode": {
    "name": "ipython",
    "version": 3
   },
   "file_extension": ".py",
   "mimetype": "text/x-python",
   "name": "python",
   "nbconvert_exporter": "python",
   "pygments_lexer": "ipython3",
   "version": "3.8.19"
  }
 },
 "nbformat": 4,
 "nbformat_minor": 5
}
