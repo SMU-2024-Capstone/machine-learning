{
 "cells": [
  {
   "cell_type": "code",
   "execution_count": 1,
   "id": "4c2dc4dc-ac0b-4cb0-a5d5-0d2b967d6fa7",
   "metadata": {},
   "outputs": [
    {
     "name": "stdout",
     "output_type": "stream",
     "text": [
      "importing Jupyter notebook from ML.ipynb\n",
      " * Serving Flask app '__main__'\n",
      " * Debug mode: off\n"
     ]
    },
    {
     "name": "stderr",
     "output_type": "stream",
     "text": [
      "WARNING: This is a development server. Do not use it in a production deployment. Use a production WSGI server instead.\n",
      " * Running on http://127.0.0.1:5000\n",
      "Press CTRL+C to quit\n",
      "127.0.0.1 - - [18/Sep/2024 19:28:32] \"POST /test-result/calc HTTP/1.1\" 200 -\n",
      "127.0.0.1 - - [18/Sep/2024 19:28:42] \"POST /test-result/calc HTTP/1.1\" 200 -\n",
      "127.0.0.1 - - [18/Sep/2024 19:28:48] \"POST /test-result/calc HTTP/1.1\" 200 -\n",
      "127.0.0.1 - - [18/Sep/2024 19:29:40] \"POST /test-result/calc HTTP/1.1\" 200 -\n",
      "127.0.0.1 - - [18/Sep/2024 19:29:48] \"POST /test-result/calc HTTP/1.1\" 200 -\n",
      "127.0.0.1 - - [18/Sep/2024 19:29:54] \"POST /test-result/calc HTTP/1.1\" 200 -\n",
      "127.0.0.1 - - [18/Sep/2024 19:30:01] \"POST /test-result/calc HTTP/1.1\" 200 -\n"
     ]
    }
   ],
   "source": [
    "import import_ipynb\n",
    "from ML import *\n",
    "from flask import Flask  ## flask 라이브러리에서 Flask import\n",
    "from flask import request\n",
    "from flask import jsonify\n",
    "import json\n",
    "\n",
    "app = Flask(__name__) \n",
    "\n",
    "@app.route('/')\n",
    "def hello_world():\n",
    "    return 'Hello, World!'\n",
    "\n",
    "@app.route('/test-result/calc', methods=['POST'])\n",
    "def calc_test_result():\n",
    "    params = request.get_json(silent=True)\n",
    "    irs = params['importance']\n",
    "    crs = params['preference']\n",
    "\n",
    "    test_user_vector = calc_test_user_vector(irs, crs)\n",
    "\n",
    "    user_vector = (test_user_vector if params['user_vector'] == '0' \n",
    "                   else str_to_vec(params['user_vector'])*0.5 + test_user_vector*0.5)\n",
    "    \n",
    "    places = pick_places(user_vector)\n",
    "    \n",
    "    user_vector_str = vec_to_str(user_vector)\n",
    "\n",
    "    result_dict = {'user_vector': user_vector_str, 'placeID': list(places)}\n",
    "    \n",
    "    return jsonify(result_dict)\n",
    "\n",
    "\n",
    "@app.route('/login/ai', methods=['POST'])\n",
    "def login():\n",
    "    params = request.get_json(silent=True)\n",
    "    \n",
    "    uvs = params['user_vector']\n",
    "    user_vector = str_to_vec(uvs)\n",
    "\n",
    "    places = pick_places(user_vector)\n",
    "\n",
    "    result_dict = {'placeID': list(places)}\n",
    "    \n",
    "    return jsonify(result_dict)\n",
    "\n",
    "@app.route('/rating', methods=['POST'])\n",
    "def rating():\n",
    "    params = request.get_json(silent=True)\n",
    "\n",
    "    uvs = params['user_vector']\n",
    "    user_vector = str_to_vec(uvs)\n",
    "\n",
    "    total_rating = params['total_rating']\n",
    "    count_rating_places = params['count_rating_places']\n",
    "\n",
    "    place_id = params['placeID']\n",
    "    rating = params['rating']\n",
    "    \n",
    "    updated_user_vector = rating_place(user_vector, count_rating_places, place_id, rating)\n",
    "\n",
    "    result_dict = {'user_vector': vec_to_str(updated_user_vector)}\n",
    "\n",
    "    return jsonify(result_dict)\n",
    "\n",
    "if __name__ == \"__main__\":\n",
    "    app.run()"
   ]
  },
  {
   "cell_type": "code",
   "execution_count": null,
   "id": "5179926d-f4af-458c-8ea9-d93d3964898e",
   "metadata": {},
   "outputs": [],
   "source": []
  }
 ],
 "metadata": {
  "kernelspec": {
   "display_name": "python38",
   "language": "python",
   "name": "python38"
  },
  "language_info": {
   "codemirror_mode": {
    "name": "ipython",
    "version": 3
   },
   "file_extension": ".py",
   "mimetype": "text/x-python",
   "name": "python",
   "nbconvert_exporter": "python",
   "pygments_lexer": "ipython3",
   "version": "3.8.19"
  }
 },
 "nbformat": 4,
 "nbformat_minor": 5
}
